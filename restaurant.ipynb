{
 "cells": [
  {
   "cell_type": "code",
   "execution_count": 1,
   "metadata": {},
   "outputs": [],
   "source": [
    "import simpy\n",
    "import random\n",
    "from random import seed"
   ]
  },
  {
   "cell_type": "code",
   "execution_count": 2,
   "metadata": {},
   "outputs": [],
   "source": [
    "def customer(env, name, restaurant, arrival_rate, **duration):\n",
    "    while True:\n",
    "\n",
    "        # change 1: customer arrival follows poisson distribution\n",
    "#        yield env.timeout(random()*10)\n",
    "        interarrival_time = random.expovariate(arrival_rate)\n",
    "        yield env.timeout(interarrival_time)\n",
    "\n",
    "        print(f'{name} enters the restaurant and for the waiter to come at {round(env.now, 2)}')\n",
    "        with restaurant.request() as req:\n",
    "            yield req\n",
    "\n",
    "            print(f\"Sits are available. {name} get sitted at {round(env.now, 2)}\")\n",
    "            yield env.timeout(duration['get_sitted'])\n",
    "\n",
    "            print(f\"{name} starts looking at the menu at {round(env.now, 2)}\")\n",
    "            yield env.timeout(duration['choose_food'])\n",
    "\n",
    "            print(f'Waiters start getting the order from {name} at {round(env.now, 2)}')\n",
    "            yield env.timeout(duration['give_order'])\n",
    "\n",
    "            # change 2: food department from kitchen follows poisson distribution\n",
    "            print(f'{name} starts waiting for food at {round(env.now, 2)}')\n",
    "#            yield env.timeout(duration['wait_for_food'])\n",
    "            serving_departure_rate = random.expovariate(1/duration['wait_for_food'])\n",
    "            yield env.timeout(serving_departure_rate)\n",
    "\n",
    "            print(f'{name} starts eating at {round(env.now, 2)}')\n",
    "            yield env.timeout(duration['eat'])\n",
    "\n",
    "            print(f'{name} starts paying at {round(env.now, 2)}')\n",
    "            yield env.timeout(duration['pay'])\n",
    "\n",
    "            print(f'{name} leaves at {round(env.now, 2)}')"
   ]
  },
  {
   "cell_type": "code",
   "execution_count": 3,
   "metadata": {},
   "outputs": [
    {
     "name": "stdout",
     "output_type": "stream",
     "text": [
      "Customer 0 enters the restaurant and for the waiter to come at 0.87\n",
      "Sits are available. Customer 0 get sitted at 0.87\n",
      "Customer 3 enters the restaurant and for the waiter to come at 1.77\n",
      "Sits are available. Customer 3 get sitted at 1.77\n",
      "Customer 0 starts looking at the menu at 1.87\n",
      "Customer 3 starts looking at the menu at 2.77\n",
      "Customer 4 enters the restaurant and for the waiter to come at 4.1\n",
      "Sits are available. Customer 4 get sitted at 4.1\n",
      "Customer 4 starts looking at the menu at 5.1\n",
      "Customer 2 enters the restaurant and for the waiter to come at 8.66\n",
      "Sits are available. Customer 2 get sitted at 8.66\n",
      "Customer 2 starts looking at the menu at 9.66\n",
      "Customer 1 enters the restaurant and for the waiter to come at 11.28\n",
      "Waiters start getting the order from Customer 0 at 11.87\n",
      "Waiters start getting the order from Customer 3 at 12.77\n",
      "Waiters start getting the order from Customer 4 at 15.1\n",
      "Customer 0 starts waiting for food at 16.87\n",
      "Customer 3 starts waiting for food at 17.77\n",
      "Waiters start getting the order from Customer 2 at 19.66\n",
      "Customer 4 starts waiting for food at 20.1\n",
      "Customer 2 starts waiting for food at 24.66\n",
      "Customer 2 starts eating at 26.63\n",
      "Customer 0 starts eating at 28.8\n",
      "Customer 3 starts eating at 38.85\n",
      "Customer 4 starts eating at 51.2\n",
      "Customer 2 starts paying at 71.63\n",
      "Customer 0 starts paying at 73.8\n",
      "Customer 2 leaves at 81.63\n",
      "Sits are available. Customer 1 get sitted at 81.63\n",
      "Customer 2 enters the restaurant and for the waiter to come at 81.8\n",
      "Customer 1 starts looking at the menu at 82.63\n",
      "Customer 0 leaves at 83.8\n",
      "Sits are available. Customer 2 get sitted at 83.8\n",
      "Customer 3 starts paying at 83.85\n",
      "Customer 2 starts looking at the menu at 84.8\n",
      "Waiters start getting the order from Customer 1 at 92.63\n",
      "Customer 3 leaves at 93.85\n",
      "Customer 0 enters the restaurant and for the waiter to come at 94.64\n",
      "Sits are available. Customer 0 get sitted at 94.64\n",
      "Waiters start getting the order from Customer 2 at 94.8\n"
     ]
    }
   ],
   "source": [
    "seed(1)\n",
    "env = simpy.Environment()\n",
    "\n",
    "# Model restaurant that can only allow 2 customers at once\n",
    "restaurant = simpy.Resource(env, capacity=4)\n",
    "durations = {'get_sitted': 1, 'choose_food': 10, 'give_order': 5, 'wait_for_food': 20, 'eat': 45, 'pay': 10}\n",
    "\n",
    "\n",
    "customer_arrival_rate = 10/60 # num customers per hour\n",
    "\n",
    "for i in range(5):\n",
    "    env.process(customer(env, f'Customer {i}', restaurant, customer_arrival_rate, **durations))\n",
    "\n",
    "env.run(until=95)\n"
   ]
  }
 ],
 "metadata": {
  "kernelspec": {
   "display_name": "Python 3",
   "language": "python",
   "name": "python3"
  },
  "language_info": {
   "codemirror_mode": {
    "name": "ipython",
    "version": 3
   },
   "file_extension": ".py",
   "mimetype": "text/x-python",
   "name": "python",
   "nbconvert_exporter": "python",
   "pygments_lexer": "ipython3",
   "version": "3.9.6"
  }
 },
 "nbformat": 4,
 "nbformat_minor": 2
}
